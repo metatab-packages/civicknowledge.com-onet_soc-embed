{
 "cells": [
  {
   "cell_type": "code",
   "execution_count": 1,
   "metadata": {},
   "outputs": [
    {
     "name": "stdout",
     "output_type": "stream",
     "text": [
      "env: RESEARCH_ROBOT_DEFAULT_CACHE=./_cache\n"
     ]
    }
   ],
   "source": [
    "%load_ext autoreload\n",
    "%autoreload 2\n",
    "\n",
    "import seaborn as sns\n",
    "import metapack as mp\n",
    "import pandas as pd\n",
    "import numpy as np\n",
    "import matplotlib.pyplot as plt\n",
    "from IPython.display import display \n",
    "import os\n",
    "from tqdm.auto import tqdm\n",
    "import re \n",
    "import json \n",
    "\n",
    "from researchrobot import cache_dl, require_version, ObjectStore, oscache\n",
    "from researchrobot.openai import openai_one_completion\n",
    "from researchrobot.embeddings import run_embeddings\n",
    "\n",
    "from joblib import Parallel, delayed\n",
    "\n",
    "%matplotlib inline\n",
    "sns.set_context('notebook')\n",
    "mp.jupyter.init()\n",
    "\n",
    "%env RESEARCH_ROBOT_DEFAULT_CACHE ./_cache\n",
    "\n",
    "cfs_config = dict(class_='FSObjectStore', bucket='linkedin/build', path='_cache')\n",
    "rc =  ObjectStore.new(**cfs_config)\n"
   ]
  },
  {
   "cell_type": "code",
   "execution_count": 2,
   "metadata": {},
   "outputs": [
    {
     "data": {
      "text/html": [
       "<h1>O*Net Occupation Embeddings</h1>\n",
       "<p><code>civicknowledge.com-onet_soc-embed-1.2.4</code> Last Update: 2023-09-27T16:46:01</p>\n",
       "<p><em>Text for O*Net occupations and pre-computed embeddings.</em></p>\n",
       "<h2>Documentation Links</h2>\n",
       "<ul>\n",
       "<li><a href=\"https://www.onetcenter.org/database.html\">O*Net Database</a> </li>\n",
       "</ul>\n",
       "<h2>Contacts</h2>\n",
       "<ul>\n",
       "<li><strong>Wrangler</strong> <a href=\"mailto:eric@civicknowledge.com\">Eric Busboom</a>, <a href=\"http://civicknowledge.com\">Civic Knowledge</a></li>\n",
       "</ul>\n",
       "<h2>Resources</h2>\n",
       "<ul>\n",
       "<li><strong><a href=\"notebooks/build_onet_embed.ipynb#ot_edf\">onet_occupations</a></strong>. O*Net SOC and occupation descriptions and embeddings</li>\n",
       "<li><strong><a href=\"notebooks/compile.ipynb#ent\">onet_ent</a></strong>. Texts and SOC for embeddings of ONET tasks, activities, titles and occupations</li>\n",
       "<li><strong><a href=\"notebooks/compile.ipynb#edf\">onet_embd</a></strong>. Embeddings of ONET tasks, activities, titles and occupations</li>\n",
       "</ul>\n",
       "<h2>References</h2>\n",
       "<ul><li> <strong><a href=\"https://www.onetcenter.org/dl_files/database/db_28_0_excel/Occupation%20Data.xlsx\">onet_occupations_source</a></strong>. Descriptions of O*Net Occupations</li><li> <strong><a href=\"https://www.onetcenter.org/dl_files/database/db_28_0_excel/Task%20Statements.xlsx\">onet_tasks_source</a></strong>. Descriptions of tasks for O*Net occupations</li><li> <strong><a href=\"https://www.onetcenter.org/dl_files/database/db_28_0_excel/Technology%20Skills.xlsx\">onet_tech_source</a></strong>. </li><li> <strong><a href=\"https://www.onetcenter.org/dl_files/database/db_28_0_excel/Tools%20Used.xlsx\">onet_tools_source</a></strong>. </li><li> <strong><a href=\"https://www.onetcenter.org/dl_files/database/db_28_0_excel/Work%20Activities.xlsx\">onet_activities_source</a></strong>. </li><ul>"
      ],
      "text/plain": [
       "# O*Net Occupation Embeddings\n",
       "`civicknowledge.com-onet_soc-embed-1.2.4` Last Update: 2023-09-27T16:46:01\n",
       "\n",
       "_Text for O*Net occupations and pre-computed embeddings._\n",
       "\n",
       "\n",
       "## Documentation Links\n",
       "\n",
       "* [O*Net Database](https://www.onetcenter.org/database.html) \n",
       "\n",
       " \n",
       "\n",
       "## Contacts\n",
       "\n",
       "* **Wrangler** [Eric Busboom](mailto:eric@civicknowledge.com), [Civic Knowledge](http://civicknowledge.com)\n",
       "\n",
       "## Resources\n",
       "\n",
       "* **[onet_occupations](notebooks/build_onet_embed.ipynb#ot_edf)**. O*Net SOC and occupation descriptions and embeddings\n",
       "* **[onet_ent](notebooks/compile.ipynb#ent)**. Texts and SOC for embeddings of ONET tasks, activities, titles and occupations\n",
       "* **[onet_embd](notebooks/compile.ipynb#edf)**. Embeddings of ONET tasks, activities, titles and occupations\n",
       "\n",
       "## References\n",
       "<ul><li> <strong><a href=\"https://www.onetcenter.org/dl_files/database/db_28_0_excel/Occupation%20Data.xlsx\">onet_occupations_source</a></strong>. Descriptions of O*Net Occupations</li><li> <strong><a href=\"https://www.onetcenter.org/dl_files/database/db_28_0_excel/Task%20Statements.xlsx\">onet_tasks_source</a></strong>. Descriptions of tasks for O*Net occupations</li><li> <strong><a href=\"https://www.onetcenter.org/dl_files/database/db_28_0_excel/Technology%20Skills.xlsx\">onet_tech_source</a></strong>. </li><li> <strong><a href=\"https://www.onetcenter.org/dl_files/database/db_28_0_excel/Tools%20Used.xlsx\">onet_tools_source</a></strong>. </li><li> <strong><a href=\"https://www.onetcenter.org/dl_files/database/db_28_0_excel/Work%20Activities.xlsx\">onet_activities_source</a></strong>. </li><ul>\n"
      ]
     },
     "execution_count": 2,
     "metadata": {},
     "output_type": "execute_result"
    }
   ],
   "source": [
    "#pkg = mp.jupyter.open_package()\n",
    "pkg = mp.jupyter.open_source_package()\n",
    "\n",
    "pkg.set_sys_path()\n",
    "from pylib import *\n",
    "\n",
    "pkg"
   ]
  },
  {
   "cell_type": "code",
   "execution_count": 3,
   "metadata": {},
   "outputs": [
    {
     "data": {
      "text/html": [
       "<div>\n",
       "<style scoped>\n",
       "    .dataframe tbody tr th:only-of-type {\n",
       "        vertical-align: middle;\n",
       "    }\n",
       "\n",
       "    .dataframe tbody tr th {\n",
       "        vertical-align: top;\n",
       "    }\n",
       "\n",
       "    .dataframe thead th {\n",
       "        text-align: right;\n",
       "    }\n",
       "</style>\n",
       "<table border=\"1\" class=\"dataframe\">\n",
       "  <thead>\n",
       "    <tr style=\"text-align: right;\">\n",
       "      <th></th>\n",
       "      <th>soc</th>\n",
       "      <th>title</th>\n",
       "      <th>desc</th>\n",
       "      <th>tasks</th>\n",
       "      <th>text</th>\n",
       "    </tr>\n",
       "  </thead>\n",
       "  <tbody>\n",
       "    <tr>\n",
       "      <th>0</th>\n",
       "      <td>11-1011.00</td>\n",
       "      <td>Chief Executives</td>\n",
       "      <td>Determine and formulate policies and provide o...</td>\n",
       "      <td>[Direct or coordinate an organization's financ...</td>\n",
       "      <td>Chief Executives\\n\\nDetermine and formulate po...</td>\n",
       "    </tr>\n",
       "    <tr>\n",
       "      <th>1</th>\n",
       "      <td>11-1011.03</td>\n",
       "      <td>Chief Sustainability Officers</td>\n",
       "      <td>Communicate and coordinate with management, sh...</td>\n",
       "      <td>[Monitor and evaluate effectiveness of sustain...</td>\n",
       "      <td>Chief Sustainability Officers\\n\\nCommunicate a...</td>\n",
       "    </tr>\n",
       "    <tr>\n",
       "      <th>2</th>\n",
       "      <td>11-1021.00</td>\n",
       "      <td>General and Operations Managers</td>\n",
       "      <td>Plan, direct, or coordinate the operations of ...</td>\n",
       "      <td>[Review financial statements, sales or activit...</td>\n",
       "      <td>General and Operations Managers\\n\\nPlan, direc...</td>\n",
       "    </tr>\n",
       "    <tr>\n",
       "      <th>3</th>\n",
       "      <td>11-1031.00</td>\n",
       "      <td>Legislators</td>\n",
       "      <td>Develop, introduce, or enact laws and statutes...</td>\n",
       "      <td>[Analyze and understand the local and national...</td>\n",
       "      <td>Legislators\\n\\nDevelop, introduce, or enact la...</td>\n",
       "    </tr>\n",
       "    <tr>\n",
       "      <th>4</th>\n",
       "      <td>11-2011.00</td>\n",
       "      <td>Advertising and Promotions Managers</td>\n",
       "      <td>Plan, direct, or coordinate advertising polici...</td>\n",
       "      <td>[Plan and prepare advertising and promotional ...</td>\n",
       "      <td>Advertising and Promotions Managers\\n\\nPlan, d...</td>\n",
       "    </tr>\n",
       "  </tbody>\n",
       "</table>\n",
       "</div>"
      ],
      "text/plain": [
       "          soc                                title  \\\n",
       "0  11-1011.00                     Chief Executives   \n",
       "1  11-1011.03        Chief Sustainability Officers   \n",
       "2  11-1021.00      General and Operations Managers   \n",
       "3  11-1031.00                          Legislators   \n",
       "4  11-2011.00  Advertising and Promotions Managers   \n",
       "\n",
       "                                                desc  \\\n",
       "0  Determine and formulate policies and provide o...   \n",
       "1  Communicate and coordinate with management, sh...   \n",
       "2  Plan, direct, or coordinate the operations of ...   \n",
       "3  Develop, introduce, or enact laws and statutes...   \n",
       "4  Plan, direct, or coordinate advertising polici...   \n",
       "\n",
       "                                               tasks  \\\n",
       "0  [Direct or coordinate an organization's financ...   \n",
       "1  [Monitor and evaluate effectiveness of sustain...   \n",
       "2  [Review financial statements, sales or activit...   \n",
       "3  [Analyze and understand the local and national...   \n",
       "4  [Plan and prepare advertising and promotional ...   \n",
       "\n",
       "                                                text  \n",
       "0  Chief Executives\\n\\nDetermine and formulate po...  \n",
       "1  Chief Sustainability Officers\\n\\nCommunicate a...  \n",
       "2  General and Operations Managers\\n\\nPlan, direc...  \n",
       "3  Legislators\\n\\nDevelop, introduce, or enact la...  \n",
       "4  Advertising and Promotions Managers\\n\\nPlan, d...  "
      ]
     },
     "execution_count": 3,
     "metadata": {},
     "output_type": "execute_result"
    }
   ],
   "source": [
    "# Create texts for the \n",
    "occ_df = pkg.reference('onet_occupations_source').dataframe()\n",
    "occ_df.columns = ['soc','title','desc']\n",
    "\n",
    "task_df = pkg.reference('onet_tasks_source').dataframe()\n",
    "task_df.columns = ['soc', 'title', 'task_id', 'task', 'task_type','responses', 'date', 'source']\n",
    "\n",
    "d  = pd.DataFrame([  {'soc':gn, 'tasks':g.task.to_list()} for gn, g in task_df.groupby('soc') ])\n",
    "\n",
    "ot_df = occ_df.merge(d, on='soc')\n",
    "\n",
    "def make_text(r):\n",
    "    nl = '\\n'\n",
    "    return f\"\"\"{r.title}\n",
    "\n",
    "{r.desc}\n",
    "\n",
    "{nl.join(['  * ' + s for s in r.tasks])}\n",
    "\"\"\"\n",
    "    \n",
    "ot_df['text'] = ot_df.apply(make_text, axis=1)\n",
    "\n",
    "ot_df.head()"
   ]
  },
  {
   "cell_type": "code",
   "execution_count": 4,
   "metadata": {},
   "outputs": [],
   "source": [
    "def embed_and_cache(rc, key, df, force=False, progress=False, n_jobs=4):\n",
    "    if key in rc and force is False:\n",
    "        edf = rc[key]\n",
    "    else:\n",
    "        edf = run_embeddings(df, n_jobs=n_jobs, progress=progress)\n",
    "        rc[key] = edf\n",
    "\n",
    "    return edf"
   ]
  },
  {
   "cell_type": "code",
   "execution_count": 5,
   "metadata": {},
   "outputs": [
    {
     "name": "stdout",
     "output_type": "stream",
     "text": [
      "CPU times: user 9.55 ms, sys: 13.4 ms, total: 22.9 ms\n",
      "Wall time: 22.1 ms\n"
     ]
    }
   ],
   "source": [
    "%time ot_edf = embed_and_cache(rc, 'ot_df', ot_df, progress=True)"
   ]
  },
  {
   "cell_type": "code",
   "execution_count": 6,
   "metadata": {},
   "outputs": [],
   "source": [
    "ot_edf['embeddings'] = ot_edf.embeddings.apply(lambda v: json.dumps(v.tolist()))"
   ]
  },
  {
   "cell_type": "code",
   "execution_count": 7,
   "metadata": {},
   "outputs": [
    {
     "data": {
      "text/plain": [
       "0      [-0.004486817514321507, -0.0031944715704036036...\n",
       "1      [-0.003343254137093117, -0.005450184146155375,...\n",
       "2      [-0.01732268411230562, -0.013479049633007011, ...\n",
       "3      [-0.009923376172845812, 0.017930787110652154, ...\n",
       "4      [-0.01950459439859871, -0.006462327289510824, ...\n",
       "                             ...                        \n",
       "918    [-0.011252905076654291, -0.004154553575809618,...\n",
       "919    [-0.02303490925883954, -0.008605153815915749, ...\n",
       "920    [-0.009864054096123403, 0.01190944325226033, 0...\n",
       "921    [-0.012732554579237188, -0.013722270102936697,...\n",
       "922    [-0.00417200721036109, -0.006684073443664963, ...\n",
       "Name: embeddings, Length: 923, dtype: object"
      ]
     },
     "execution_count": 7,
     "metadata": {},
     "output_type": "execute_result"
    }
   ],
   "source": []
  },
  {
   "cell_type": "code",
   "execution_count": null,
   "metadata": {},
   "outputs": [],
   "source": []
  }
 ],
 "metadata": {
  "kernelspec": {
   "display_name": "Python 3 (ipykernel)",
   "language": "python",
   "name": "python3"
  },
  "language_info": {
   "codemirror_mode": {
    "name": "ipython",
    "version": 3
   },
   "file_extension": ".py",
   "mimetype": "text/x-python",
   "name": "python",
   "nbconvert_exporter": "python",
   "pygments_lexer": "ipython3",
   "version": "3.9.18"
  }
 },
 "nbformat": 4,
 "nbformat_minor": 4
}
