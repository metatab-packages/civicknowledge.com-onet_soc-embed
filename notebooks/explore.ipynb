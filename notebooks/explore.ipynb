{
 "cells": [
  {
   "cell_type": "code",
   "execution_count": 1,
   "metadata": {},
   "outputs": [],
   "source": [
    "import seaborn as sns\n",
    "import metapack as mp\n",
    "import pandas as pd\n",
    "import numpy as np\n",
    "import matplotlib.pyplot as plt\n",
    "from IPython.display import display \n",
    "\n",
    "%matplotlib inline\n",
    "sns.set_context('notebook')\n",
    "mp.jupyter.init()\n"
   ]
  },
  {
   "cell_type": "code",
   "execution_count": 3,
   "metadata": {},
   "outputs": [
    {
     "data": {
      "text/html": [
       "<h1>O*Net Occupation Embeddings</h1>\n",
       "<p><code>civicknowledge.com-onet_soc-embed-1.1.1</code> Last Update: 2023-09-16T04:55:20</p>\n",
       "<p><em>Text for O*Net occupations and pre-computed embeddings.</em></p>\n",
       "<h2>Contacts</h2>\n",
       "<ul>\n",
       "<li><strong>Wrangler</strong> <a href=\"mailto:eric@civicknowledge.com\">Eric Busboom</a>, <a href=\"http://civicknowledge.com\">Civic Knowledge</a></li>\n",
       "</ul>\n",
       "<h2>Resources</h2>\n",
       "<ul>\n",
       "<li><strong><a href=\"data/onet_occupations.csv\">onet_occupations</a></strong>. O*Net SOC, occupation descriptions and embeddings.</li>\n",
       "<li><strong><a href=\"data/onet_rewrites.csv\">onet_rewrites</a></strong>. ONet Occuption descriptions, rewritten</li>\n",
       "</ul>\n",
       "<h2>References</h2>\n",
       "<ul><li> <strong><a href=\"https://www.onetcenter.org/dl_files/database/db_27_3_excel/Occupation%20Data.xlsx\">onet_occupations</a></strong>. Descriptions of O*Net Occupations</li><li> <strong><a href=\"https://www.onetcenter.org/dl_files/database/db_27_3_excel/Task%20Statements.xlsx\">onet_tasks</a></strong>. Descriptions of tasks for O*Net occupations</li><ul>"
      ],
      "text/plain": [
       "# O*Net Occupation Embeddings\n",
       "`civicknowledge.com-onet_soc-embed-1.1.1` Last Update: 2023-09-16T04:55:20\n",
       "\n",
       "_Text for O*Net occupations and pre-computed embeddings._\n",
       "\n",
       "\n",
       "\n",
       "\n",
       " \n",
       "\n",
       "## Contacts\n",
       "\n",
       "* **Wrangler** [Eric Busboom](mailto:eric@civicknowledge.com), [Civic Knowledge](http://civicknowledge.com)\n",
       "\n",
       "## Resources\n",
       "\n",
       "* **[onet_occupations](data/onet_occupations.csv)**. O*Net SOC, occupation descriptions and embeddings.\n",
       "* **[onet_rewrites](data/onet_rewrites.csv)**. ONet Occuption descriptions, rewritten\n",
       "\n",
       "## References\n",
       "<ul><li> <strong><a href=\"https://www.onetcenter.org/dl_files/database/db_27_3_excel/Occupation%20Data.xlsx\">onet_occupations</a></strong>. Descriptions of O*Net Occupations</li><li> <strong><a href=\"https://www.onetcenter.org/dl_files/database/db_27_3_excel/Task%20Statements.xlsx\">onet_tasks</a></strong>. Descriptions of tasks for O*Net occupations</li><ul>\n"
      ]
     },
     "execution_count": 3,
     "metadata": {},
     "output_type": "execute_result"
    }
   ],
   "source": [
    "pkg = mp.jupyter.open_package()\n",
    "#pkg = mp.jupyter.open_source_package()\n",
    "\n",
    "pkg.set_sys_path()\n",
    "#from pylib import *\n",
    "\n",
    "pkg"
   ]
  },
  {
   "cell_type": "code",
   "execution_count": 5,
   "metadata": {},
   "outputs": [
    {
     "data": {
      "text/html": [
       "<div>\n",
       "<style scoped>\n",
       "    .dataframe tbody tr th:only-of-type {\n",
       "        vertical-align: middle;\n",
       "    }\n",
       "\n",
       "    .dataframe tbody tr th {\n",
       "        vertical-align: top;\n",
       "    }\n",
       "\n",
       "    .dataframe thead th {\n",
       "        text-align: right;\n",
       "    }\n",
       "</style>\n",
       "<table border=\"1\" class=\"dataframe\">\n",
       "  <thead>\n",
       "    <tr style=\"text-align: right;\">\n",
       "      <th></th>\n",
       "      <th>soc</th>\n",
       "      <th>title</th>\n",
       "      <th>summary</th>\n",
       "      <th>rewrite</th>\n",
       "      <th>mismatch</th>\n",
       "      <th>cache_path</th>\n",
       "    </tr>\n",
       "  </thead>\n",
       "  <tbody>\n",
       "    <tr>\n",
       "      <th>0</th>\n",
       "      <td>53-2022.00</td>\n",
       "      <td>armour reconnaissance commander</td>\n",
       "      <td>Worked and trained as a Sergeant in the Singap...</td>\n",
       "      <td>Airfield Operations Sergeant. As a leader in t...</td>\n",
       "      <td>False</td>\n",
       "      <td>responses/53-2022.00</td>\n",
       "    </tr>\n",
       "    <tr>\n",
       "      <th>1</th>\n",
       "      <td>53-2022.00</td>\n",
       "      <td>usaf</td>\n",
       "      <td>Luke AFB was my last assignment from September...</td>\n",
       "      <td>Airfield Operations Specialist at USAF. I was ...</td>\n",
       "      <td>False</td>\n",
       "      <td>responses/53-2022.00</td>\n",
       "    </tr>\n",
       "    <tr>\n",
       "      <th>2</th>\n",
       "      <td>53-2022.00</td>\n",
       "      <td>manager of state airports</td>\n",
       "      <td>Implemented scheduled air carrier service betw...</td>\n",
       "      <td>State Airports Manager. Managed multiple airpo...</td>\n",
       "      <td>False</td>\n",
       "      <td>responses/53-2022.00</td>\n",
       "    </tr>\n",
       "    <tr>\n",
       "      <th>3</th>\n",
       "      <td>53-2022.00</td>\n",
       "      <td>specialist</td>\n",
       "      <td>Worked in a Supply Transportaion Unit 11th ACR...</td>\n",
       "      <td>Supply Transportation Specialist. My responsib...</td>\n",
       "      <td>False</td>\n",
       "      <td>responses/53-2022.00</td>\n",
       "    </tr>\n",
       "    <tr>\n",
       "      <th>4</th>\n",
       "      <td>53-2022.00</td>\n",
       "      <td>clinical manager</td>\n",
       "      <td>Assignments include: Lackland AFB, TX, Sheppar...</td>\n",
       "      <td>Clinical Manager in Airfield Operations. My as...</td>\n",
       "      <td>False</td>\n",
       "      <td>responses/53-2022.00</td>\n",
       "    </tr>\n",
       "  </tbody>\n",
       "</table>\n",
       "</div>"
      ],
      "text/plain": [
       "          soc                            title  \\\n",
       "0  53-2022.00  armour reconnaissance commander   \n",
       "1  53-2022.00                             usaf   \n",
       "2  53-2022.00        manager of state airports   \n",
       "3  53-2022.00                       specialist   \n",
       "4  53-2022.00                 clinical manager   \n",
       "\n",
       "                                             summary  \\\n",
       "0  Worked and trained as a Sergeant in the Singap...   \n",
       "1  Luke AFB was my last assignment from September...   \n",
       "2  Implemented scheduled air carrier service betw...   \n",
       "3  Worked in a Supply Transportaion Unit 11th ACR...   \n",
       "4  Assignments include: Lackland AFB, TX, Sheppar...   \n",
       "\n",
       "                                             rewrite mismatch  \\\n",
       "0  Airfield Operations Sergeant. As a leader in t...    False   \n",
       "1  Airfield Operations Specialist at USAF. I was ...    False   \n",
       "2  State Airports Manager. Managed multiple airpo...    False   \n",
       "3  Supply Transportation Specialist. My responsib...    False   \n",
       "4  Clinical Manager in Airfield Operations. My as...    False   \n",
       "\n",
       "             cache_path  \n",
       "0  responses/53-2022.00  \n",
       "1  responses/53-2022.00  \n",
       "2  responses/53-2022.00  \n",
       "3  responses/53-2022.00  \n",
       "4  responses/53-2022.00  "
      ]
     },
     "execution_count": 5,
     "metadata": {},
     "output_type": "execute_result"
    }
   ],
   "source": [
    "df = pkg.resource('onet_rewrites').dataframe()\n",
    "df.head()"
   ]
  },
  {
   "cell_type": "code",
   "execution_count": null,
   "metadata": {},
   "outputs": [],
   "source": []
  }
 ],
 "metadata": {
  "kernelspec": {
   "display_name": "Python 3 (ipykernel)",
   "language": "python",
   "name": "python3"
  },
  "language_info": {
   "codemirror_mode": {
    "name": "ipython",
    "version": 3
   },
   "file_extension": ".py",
   "mimetype": "text/x-python",
   "name": "python",
   "nbconvert_exporter": "python",
   "pygments_lexer": "ipython3",
   "version": "3.10.6"
  }
 },
 "nbformat": 4,
 "nbformat_minor": 4
}
